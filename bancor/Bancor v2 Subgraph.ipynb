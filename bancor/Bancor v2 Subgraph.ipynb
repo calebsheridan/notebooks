{
 "cells": [
  {
   "cell_type": "markdown",
   "metadata": {},
   "source": [
    "# Bancor Subgraph\n",
    "\n",
    "https://thegraph.com/explorer/subgraph/blocklytics/bancor-v2"
   ]
  },
  {
   "cell_type": "code",
   "execution_count": 108,
   "metadata": {},
   "outputs": [],
   "source": [
    "from graphqlclient import GraphQLClient\n",
    "import json\n",
    "import datetime as dt"
   ]
  },
  {
   "cell_type": "code",
   "execution_count": 7,
   "metadata": {},
   "outputs": [],
   "source": [
    "ENDPOINT = \"https://api.thegraph.com/subgraphs/name/blocklytics/bancor-v2\"\n",
    "client = GraphQLClient(ENDPOINT)"
   ]
  },
  {
   "cell_type": "markdown",
   "metadata": {},
   "source": [
    "## Pool Volume\n",
    "\n",
    "Pool volumes are given in terms of each token in the pool and for the buy, sell and overall volume.\n",
    "\n",
    "To get the lifetime volume for a given pool (converter):"
   ]
  },
  {
   "cell_type": "code",
   "execution_count": 141,
   "metadata": {},
   "outputs": [
    {
     "data": {
      "text/plain": [
       "{'data': {'converter': {'activated': True,\n",
       "   'createdAtTimestamp': '1599042695',\n",
       "   'id': '0xd5aa38c6df168741839f9e1e9c51e6d24b986970',\n",
       "   'volumes': [{'buyVolume': '25774.886191898205036102',\n",
       "     'sellVolume': '35143.005382287974667567',\n",
       "     'token': {'symbol': 'BNT'},\n",
       "     'totalVolume': '60917.891574186179703669'},\n",
       "    {'buyVolume': '125362.519681479419761064',\n",
       "     'sellVolume': '94858.229518880359971895',\n",
       "     'token': {'symbol': 'REN'},\n",
       "     'totalVolume': '220220.749200359779732959'}]}}}"
      ]
     },
     "execution_count": 141,
     "metadata": {},
     "output_type": "execute_result"
    }
   ],
   "source": [
    "def get_volumes(converter):\n",
    "    QUERY = \"\"\"\n",
    "        {{\n",
    "          converter(id:\"{0}\") {{\n",
    "            id\n",
    "            activated\n",
    "            volumes {{\n",
    "              token {{ symbol }}\n",
    "              sellVolume\n",
    "              buyVolume\n",
    "              totalVolume\n",
    "            }}\n",
    "            createdAtTimestamp\n",
    "          }}\n",
    "        }}\"\"\".format(converter)\n",
    "\n",
    "    return json.loads(client.execute(QUERY))\n",
    "\n",
    "result = get_volumes(\"0xd5aa38c6df168741839f9e1e9c51e6d24b986970\")\n",
    "result"
   ]
  },
  {
   "cell_type": "code",
   "execution_count": 142,
   "metadata": {},
   "outputs": [
    {
     "name": "stdout",
     "output_type": "stream",
     "text": [
      "Volumes for 0xd5aa38c6df168741839f9e1e9c51e6d24b986970\n",
      "\n",
      "=====BNT Volume=====\n",
      "Buy:   25774.886191898205036102 BNT\n",
      "Sell:  35143.005382287974667567 BNT\n",
      "Total: 60917.891574186179703669 BNT\n",
      "Since 2020-09-02 10:31:35\n",
      "\n",
      "=====REN Volume=====\n",
      "Buy:   125362.519681479419761064 REN\n",
      "Sell:  94858.229518880359971895 REN\n",
      "Total: 220220.749200359779732959 REN\n",
      "Since 2020-09-02 10:31:35\n",
      "\n"
     ]
    }
   ],
   "source": [
    "def display_volumes(data):\n",
    "    converter = data['id']\n",
    "    converter_creation_timestamp = int(data['createdAtTimestamp'])\n",
    "    created_at = datetime.fromtimestamp(converter_creation_timestamp)\n",
    "    print(\"Volumes for {0}\\n\".format(converter))\n",
    "\n",
    "    for row in data['volumes']:\n",
    "        buy_volume = row['buyVolume']\n",
    "        sell_volume = row['sellVolume']\n",
    "        total_volume = row['totalVolume']\n",
    "        symbol = row['token']['symbol']\n",
    "\n",
    "        print(\"====={0} Volume=====\".format(symbol))\n",
    "        print(\"Buy:   {0} {1}\".format(buy_volume, symbol))\n",
    "        print(\"Sell:  {0} {1}\".format(sell_volume, symbol))\n",
    "        print(\"Total: {0} {1}\".format(total_volume, symbol))\n",
    "        print(\"Since {0}\\n\".format(created_at))\n",
    "\n",
    "display_volumes(result['data']['converter'])"
   ]
  },
  {
   "cell_type": "markdown",
   "metadata": {},
   "source": [
    "If we want to go further back for this pair, we can find the previous converter using `upgradedFrom`, which is another converter address..."
   ]
  },
  {
   "cell_type": "code",
   "execution_count": 143,
   "metadata": {},
   "outputs": [
    {
     "data": {
      "text/plain": [
       "'0x2eb3eda19e9fb1f821dfb379c485062ea90df779'"
      ]
     },
     "execution_count": 143,
     "metadata": {},
     "output_type": "execute_result"
    }
   ],
   "source": [
    "QUERY = \"\"\"\n",
    "    {{\n",
    "      converter(id:\"{0}\") {{\n",
    "        upgradedFrom {{\n",
    "          id\n",
    "        }}\n",
    "      }}\n",
    "    }}\"\"\".format(EXCHANGE)\n",
    "\n",
    "result = json.loads(client.execute(QUERY))\n",
    "previous_converter = result['data']['converter']['upgradedFrom']['id']\n",
    "previous_converter"
   ]
  },
  {
   "cell_type": "code",
   "execution_count": 145,
   "metadata": {},
   "outputs": [
    {
     "name": "stdout",
     "output_type": "stream",
     "text": [
      "Volumes for 0x2eb3eda19e9fb1f821dfb379c485062ea90df779\n",
      "\n",
      "=====BNT Volume=====\n",
      "Buy:   73822.762794205374555346 BNT\n",
      "Sell:  26477.39717237874731916 BNT\n",
      "Total: 100300.159966584121874506 BNT\n",
      "Since 2020-08-26 20:17:09\n",
      "\n",
      "=====REN Volume=====\n",
      "Buy:   109597.522607717892782943 REN\n",
      "Sell:  291952.806734791927935279 REN\n",
      "Total: 401550.329342509820718222 REN\n",
      "Since 2020-08-26 20:17:09\n",
      "\n"
     ]
    }
   ],
   "source": [
    "result = get_volumes(previous_converter)\n",
    "display_volumes(result['data']['converter'])"
   ]
  },
  {
   "cell_type": "markdown",
   "metadata": {},
   "source": [
    "## Rolling Volume\n",
    "\n",
    "Normally, we don't care about lifetime volume and only want to know volume for the last `1d`, `7d`, `30d`. In this case, we can use time-travel queries.\n",
    "\n",
    "We will specify a block number to compare `before` volumes with `after` volumes. For example:"
   ]
  },
  {
   "cell_type": "code",
   "execution_count": 146,
   "metadata": {},
   "outputs": [
    {
     "data": {
      "text/plain": [
       "{'data': {'after': {'id': '0x2eb3eda19e9fb1f821dfb379c485062ea90df779',\n",
       "   'volumes': [{'token': {'symbol': 'BNT'},\n",
       "     'totalVolume': '100300.159966584121874506'},\n",
       "    {'token': {'symbol': 'REN'}, 'totalVolume': '401550.329342509820718222'}]},\n",
       "  'before': {'id': '0x2eb3eda19e9fb1f821dfb379c485062ea90df779',\n",
       "   'volumes': [{'token': {'symbol': 'BNT'},\n",
       "     'totalVolume': '16030.182917770475928784'},\n",
       "    {'token': {'symbol': 'REN'}, 'totalVolume': '70571.627746303023652931'}]}}}"
      ]
     },
     "execution_count": 146,
     "metadata": {},
     "output_type": "execute_result"
    }
   ],
   "source": [
    "block_number = 10760000\n",
    "\n",
    "def get_exchange_snapshot_volume(exchange, block_number):\n",
    "    QUERY = \"\"\"\n",
    "        {{\n",
    "          before:converter(\n",
    "            id:\"{0}\"\n",
    "            block:{{\n",
    "              number:{1}\n",
    "            }}\n",
    "          ) {{\n",
    "            id\n",
    "            volumes {{\n",
    "              token {{ symbol }}\n",
    "              totalVolume\n",
    "            }}\n",
    "          }}\n",
    "          after:converter(\n",
    "            id:\"{0}\"\n",
    "          ) {{\n",
    "            id\n",
    "            volumes {{\n",
    "              token {{ symbol }}\n",
    "              totalVolume\n",
    "            }}\n",
    "          }}\n",
    "        }}\"\"\".format(exchange, block_number)\n",
    "\n",
    "    return json.loads(client.execute(QUERY))\n",
    "\n",
    "result = get_exchange_snapshot_volume(previous_converter, block_number)\n",
    "result"
   ]
  },
  {
   "cell_type": "code",
   "execution_count": 147,
   "metadata": {},
   "outputs": [
    {
     "name": "stdout",
     "output_type": "stream",
     "text": [
      "====BNT Volume=====\n",
      "Before: 16030.182917770477 BNT\n",
      "After:  100300.15996658412 BNT\n",
      "Diff: 84269.97704881364 BNT\n",
      "\n",
      "====REN Volume=====\n",
      "Before: 70571.62774630303 REN\n",
      "After:  401550.3293425098 REN\n",
      "Diff: 330978.70159620675 REN\n",
      "\n"
     ]
    }
   ],
   "source": [
    "def display_volume_diffs(data):\n",
    "    before_volumes = data['before']['volumes']\n",
    "    after_volumes = data['after']['volumes']\n",
    "\n",
    "    for before_row in before_volumes:\n",
    "        for after_row in after_volumes:\n",
    "            if before_row['token']['id'] == after_row['token']['id']:\n",
    "                symbol = before_row['token']['symbol']\n",
    "                before_volume = float(before_row['totalVolume'])\n",
    "                after_volume = float(after_row['totalVolume'])\n",
    "                diff_volume = after_volume - before_volume\n",
    "\n",
    "                print(\"===={0} Volume=====\".format(symbol))\n",
    "                print(\"Before: {0} {1}\".format(before_volume, symbol))\n",
    "                print(\"After:  {0} {1}\".format(after_volume, symbol))\n",
    "                print(\"Diff: {0} {1}\\n\".format(diff_volume, symbol))\n",
    "\n",
    "display_volume_diffs(result['data'])"
   ]
  },
  {
   "cell_type": "markdown",
   "metadata": {},
   "source": [
    "But... blocks are not a human-friendly measurement of time! Use helper functions to change from time to blocks:"
   ]
  },
  {
   "cell_type": "code",
   "execution_count": 148,
   "metadata": {},
   "outputs": [
    {
     "data": {
      "text/plain": [
       "'10788607'"
      ]
     },
     "execution_count": 148,
     "metadata": {},
     "output_type": "execute_result"
    }
   ],
   "source": [
    "def timestamp_for_days_ago(days):\n",
    "    return int((dt.datetime.now() - dt.timedelta(days=days)).timestamp())\n",
    "\n",
    "def block_for_timestamp(timestamp):\n",
    "    ethereum_blocks_subgraph = \"https://api.thegraph.com/subgraphs/name/blocklytics/ethereum-blocks\"\n",
    "    ethereum_blocks_client = GraphQLClient(ethereum_blocks_subgraph)\n",
    "    ethereum_blocks_query = \"\"\"\n",
    "        {{\n",
    "            blocks(\n",
    "                first: 1, \n",
    "                orderBy: number, \n",
    "                orderDirection: asc, \n",
    "                where: {{ timestamp_gte: \"{0}\", timestamp_lt: \"{1}\"}}\n",
    "            ) {{\n",
    "                number\n",
    "            }}\n",
    "        }}\"\"\".format(timestamp, timestamp+600)\n",
    "\n",
    "    result = json.loads(ethereum_blocks_client.execute(ethereum_blocks_query))\n",
    "    return result['data']['blocks'][0]['number']\n",
    "\n",
    "yesterday = timestamp_for_days_ago(1)\n",
    "block_for_timestamp(yesterday)"
   ]
  },
  {
   "cell_type": "code",
   "execution_count": 149,
   "metadata": {},
   "outputs": [
    {
     "name": "stdout",
     "output_type": "stream",
     "text": [
      "0x2eb3eda19e9fb1f821dfb379c485062ea90df779\n",
      "7d Volume...\n",
      "\n",
      "====BNT Volume=====\n",
      "Before: 4881.806032585283 BNT\n",
      "After:  100300.15996658412 BNT\n",
      "Diff: 95418.35393399883 BNT\n",
      "\n",
      "====REN Volume=====\n",
      "Before: 20037.94612876574 REN\n",
      "After:  401550.3293425098 REN\n",
      "Diff: 381512.38321374403 REN\n",
      "\n"
     ]
    }
   ],
   "source": [
    "days_ago = 7\n",
    "timestamp = timestamp_for_days_ago(days_ago)\n",
    "block = block_for_timestamp(timestamp)\n",
    "result = get_exchange_snapshot_volume(previous_converter, block)\n",
    "\n",
    "print(exchange)\n",
    "print(\"{0}d Volume...\\n\".format(days_ago))\n",
    "display_volume_diffs(result['data'])"
   ]
  },
  {
   "cell_type": "markdown",
   "metadata": {},
   "source": [
    "# Network Volume\n",
    "\n",
    "The same concepts can be applied to network volume:"
   ]
  },
  {
   "cell_type": "code",
   "execution_count": 164,
   "metadata": {},
   "outputs": [
    {
     "data": {
      "text/plain": [
       "[{'token': {'id': '0x1f573d6fb3f13d689ff844b4ce37794d79a7ff1c',\n",
       "   'symbol': 'BNT'},\n",
       "  'totalVolume': '861236.899951375840563878'},\n",
       " {'token': {'id': '0x960b236a07cf122663c4303350609a66a7b288c0',\n",
       "   'symbol': 'ANT'},\n",
       "  'totalVolume': '325191.874366941064876337'},\n",
       " {'token': {'id': '0x1f573d6fb3f13d689ff844b4ce37794d79a7ff1c',\n",
       "   'symbol': 'BNT'},\n",
       "  'totalVolume': '380764.794712048490659657'},\n",
       " {'token': {'id': '0x514910771af9ca656af840dff83e8264ecf986ca',\n",
       "   'symbol': 'LINK'},\n",
       "  'totalVolume': '40774.748157896463985499'},\n",
       " {'token': {'id': '0x1f573d6fb3f13d689ff844b4ce37794d79a7ff1c',\n",
       "   'symbol': 'BNT'},\n",
       "  'totalVolume': '279347.470024054425230272'},\n",
       " {'token': {'id': '0xb4efd85c19999d84251304bda99e90b92300bd93',\n",
       "   'symbol': 'RPL'},\n",
       "  'totalVolume': '170387.376760814664278124'},\n",
       " {'token': {'id': '0x1f573d6fb3f13d689ff844b4ce37794d79a7ff1c',\n",
       "   'symbol': 'BNT'},\n",
       "  'totalVolume': '43.230824947580821095'},\n",
       " {'token': {'id': '0xa0b86991c6218b36c1d19d4a2e9eb0ce3606eb48',\n",
       "   'symbol': 'USDC'},\n",
       "  'totalVolume': '19.584902'},\n",
       " {'token': {'id': '0x1f573d6fb3f13d689ff844b4ce37794d79a7ff1c',\n",
       "   'symbol': 'BNT'},\n",
       "  'totalVolume': '94.563638630092571364'},\n",
       " {'token': {'id': '0x6c37bf4f042712c978a73e3fd56d1f5738dd7c43',\n",
       "   'symbol': 'ELET'},\n",
       "  'totalVolume': '17128.08676349894667054'},\n",
       " {'token': {'id': '0x309627af60f0926daa6041b8279484312f2bf060',\n",
       "   'symbol': 'USDB'},\n",
       "  'totalVolume': '89.756864872950966789'},\n",
       " {'token': {'id': '0x5228a22e72ccc52d415ecfd199f99d0665e7733b',\n",
       "   'symbol': 'pBTC'},\n",
       "  'totalVolume': '0.00846839130538053'},\n",
       " {'token': {'id': '0x1f573d6fb3f13d689ff844b4ce37794d79a7ff1c',\n",
       "   'symbol': 'BNT'},\n",
       "  'totalVolume': '1990151.557250318078804662'},\n",
       " {'token': {'id': '0x9f8f72aa9304c8b593d555f12ef6589cc3a579a2', 'symbol': ''},\n",
       "  'totalVolume': '2043.605903479341051628'},\n",
       " {'token': {'id': '0xf553e6ea4ce2f7deecbe7837e27931850ec15fab',\n",
       "   'symbol': 'MKRBNT'},\n",
       "  'totalVolume': '1359.577726597287566164'},\n",
       " {'token': {'id': '0x1f573d6fb3f13d689ff844b4ce37794d79a7ff1c',\n",
       "   'symbol': 'BNT'},\n",
       "  'totalVolume': '2577506.498352379233587353'},\n",
       " {'token': {'id': '0x514910771af9ca656af840dff83e8264ecf986ca',\n",
       "   'symbol': 'LINK'},\n",
       "  'totalVolume': '597706.046849906890103241'},\n",
       " {'token': {'id': '0x1f573d6fb3f13d689ff844b4ce37794d79a7ff1c',\n",
       "   'symbol': 'BNT'},\n",
       "  'totalVolume': '209177.482868315612001171'},\n",
       " {'token': {'id': '0x9f8f72aa9304c8b593d555f12ef6589cc3a579a2', 'symbol': ''},\n",
       "  'totalVolume': '672.287876779011098223'},\n",
       " {'token': {'id': '0x1f573d6fb3f13d689ff844b4ce37794d79a7ff1c',\n",
       "   'symbol': 'BNT'},\n",
       "  'totalVolume': '100300.159966584121874506'},\n",
       " {'token': {'id': '0x408e41876cccdc0f92210600ef50372656052a38',\n",
       "   'symbol': 'REN'},\n",
       "  'totalVolume': '401550.329342509820718222'},\n",
       " {'token': {'id': '0x1f573d6fb3f13d689ff844b4ce37794d79a7ff1c',\n",
       "   'symbol': 'BNT'},\n",
       "  'totalVolume': '25.806480551506076315'},\n",
       " {'token': {'id': '0xdac17f958d2ee523a2206206994597c13d831ec7',\n",
       "   'symbol': 'USDT'},\n",
       "  'totalVolume': '32.668881'},\n",
       " {'token': {'id': '0x1f573d6fb3f13d689ff844b4ce37794d79a7ff1c',\n",
       "   'symbol': 'BNT'},\n",
       "  'totalVolume': '129855.515612191931953236'},\n",
       " {'token': {'id': '0x5228a22e72ccc52d415ecfd199f99d0665e7733b',\n",
       "   'symbol': 'pBTC'},\n",
       "  'totalVolume': '15.395952719548446671'},\n",
       " {'token': {'id': '0x006bea43baa3f7a6f765f14f10a1a1b08334ef45',\n",
       "   'symbol': 'STX'},\n",
       "  'totalVolume': '8669929.910207318176523952'},\n",
       " {'token': {'id': '0x1f573d6fb3f13d689ff844b4ce37794d79a7ff1c',\n",
       "   'symbol': 'BNT'},\n",
       "  'totalVolume': '177891.289621665698237855'},\n",
       " {'token': {'id': '0x1f573d6fb3f13d689ff844b4ce37794d79a7ff1c',\n",
       "   'symbol': 'BNT'},\n",
       "  'totalVolume': '57199.892382418690842775'},\n",
       " {'token': {'id': '0xd341d1680eeee3255b8c4c75bcce7eb57f144dae',\n",
       "   'symbol': 'ONG'},\n",
       "  'totalVolume': '2112887.607746248652960921'},\n",
       " {'token': {'id': '0x1f573d6fb3f13d689ff844b4ce37794d79a7ff1c',\n",
       "   'symbol': 'BNT'},\n",
       "  'totalVolume': '543858.925050580379485597'},\n",
       " {'token': {'id': '0x514910771af9ca656af840dff83e8264ecf986ca',\n",
       "   'symbol': 'LINK'},\n",
       "  'totalVolume': '65255.817210630487856717'},\n",
       " {'token': {'id': '0x1f573d6fb3f13d689ff844b4ce37794d79a7ff1c',\n",
       "   'symbol': 'BNT'},\n",
       "  'totalVolume': '10124.259408879237266396'},\n",
       " {'token': {'id': '0x83984d6142934bb535793a82adb0a46ef0f66b6d',\n",
       "   'symbol': 'REM'},\n",
       "  'totalVolume': '6720331.0087'},\n",
       " {'token': {'id': '0x1f573d6fb3f13d689ff844b4ce37794d79a7ff1c',\n",
       "   'symbol': 'BNT'},\n",
       "  'totalVolume': '1795858.452229931532631027'},\n",
       " {'token': {'id': '0x408e41876cccdc0f92210600ef50372656052a38',\n",
       "   'symbol': 'REN'},\n",
       "  'totalVolume': '14311090.453106365824910409'},\n",
       " {'token': {'id': '0x1f573d6fb3f13d689ff844b4ce37794d79a7ff1c',\n",
       "   'symbol': 'BNT'},\n",
       "  'totalVolume': '76197.742278232822274655'},\n",
       " {'token': {'id': '0x514910771af9ca656af840dff83e8264ecf986ca',\n",
       "   'symbol': 'LINK'},\n",
       "  'totalVolume': '8502.945838715197742523'},\n",
       " {'token': {'id': '0x009e864923b49263c7f10d19b7f8ab7a9a5aad33',\n",
       "   'symbol': 'FKX'},\n",
       "  'totalVolume': '253487.534746332769884288'},\n",
       " {'token': {'id': '0x1f573d6fb3f13d689ff844b4ce37794d79a7ff1c',\n",
       "   'symbol': 'BNT'},\n",
       "  'totalVolume': '2266.072047061994885552'},\n",
       " {'token': {'id': '0x1f573d6fb3f13d689ff844b4ce37794d79a7ff1c',\n",
       "   'symbol': 'BNT'},\n",
       "  'totalVolume': '1984860.586403222059912873'},\n",
       " {'token': {'id': '0x514910771af9ca656af840dff83e8264ecf986ca',\n",
       "   'symbol': 'LINK'},\n",
       "  'totalVolume': '357275.441610574231194706'},\n",
       " {'token': {'id': '0x1f573d6fb3f13d689ff844b4ce37794d79a7ff1c',\n",
       "   'symbol': 'BNT'},\n",
       "  'totalVolume': '7998.844166887538208511'},\n",
       " {'token': {'id': '0x7ef1fedb73bd089ec1010baba26ca162dfa08144',\n",
       "   'symbol': 'DGDBNT'},\n",
       "  'totalVolume': '143.786703126047035331'},\n",
       " {'token': {'id': '0xe0b7927c4af23765cb51314a0e0521a9645f0e2a', 'symbol': ''},\n",
       "  'totalVolume': '166058473736'},\n",
       " {'token': {'id': '0x1f573d6fb3f13d689ff844b4ce37794d79a7ff1c',\n",
       "   'symbol': 'BNT'},\n",
       "  'totalVolume': '100642.861279242492047913'},\n",
       " {'token': {'id': '0xa485bd50228440797abb4d4595161d7546811160',\n",
       "   'symbol': 'PEG:USD'},\n",
       "  'totalVolume': '22026.570243211770150584'},\n",
       " {'token': {'id': '0x1f573d6fb3f13d689ff844b4ce37794d79a7ff1c',\n",
       "   'symbol': 'BNT'},\n",
       "  'totalVolume': '51050.012797786634698722'},\n",
       " {'token': {'id': '0xbdeb4b83251fb146687fa19d1c660f99411eefe3', 'symbol': ''},\n",
       "  'totalVolume': '300936784927807290560777703'},\n",
       " {'token': {'id': '0x1f573d6fb3f13d689ff844b4ce37794d79a7ff1c',\n",
       "   'symbol': 'BNT'},\n",
       "  'totalVolume': '164991.178233665485176479'},\n",
       " {'token': {'id': '0x408e41876cccdc0f92210600ef50372656052a38',\n",
       "   'symbol': 'REN'},\n",
       "  'totalVolume': '711863.94857907412968264'},\n",
       " {'token': {'id': '0x1f573d6fb3f13d689ff844b4ce37794d79a7ff1c',\n",
       "   'symbol': 'BNT'},\n",
       "  'totalVolume': '491078.886956634374770784'},\n",
       " {'token': {'id': '0xf629cbd94d3791c9250152bd8dfbdf380e2a3b9c',\n",
       "   'symbol': 'ENJ'},\n",
       "  'totalVolume': '4589891.078724414873357137'},\n",
       " {'token': {'id': '0x1f573d6fb3f13d689ff844b4ce37794d79a7ff1c',\n",
       "   'symbol': 'BNT'},\n",
       "  'totalVolume': '1224318.324310400987978598'},\n",
       " {'token': {'id': '0x99ebd396ce7aa095412a4cd1a0c959d6fd67b340',\n",
       "   'symbol': 'OMGBNT'},\n",
       "  'totalVolume': '101.716912752461902001'},\n",
       " {'token': {'id': '0xd26114cd6ee289accf82350c8d8487fedb8a0c07',\n",
       "   'symbol': 'OMG'},\n",
       "  'totalVolume': '330035.059246896966342882'},\n",
       " {'token': {'id': '0x1f573d6fb3f13d689ff844b4ce37794d79a7ff1c',\n",
       "   'symbol': 'BNT'},\n",
       "  'totalVolume': '740163.247865849573517584'},\n",
       " {'token': {'id': '0x408e41876cccdc0f92210600ef50372656052a38',\n",
       "   'symbol': 'REN'},\n",
       "  'totalVolume': '3352828.464646498195349377'},\n",
       " {'token': {'id': '0x1f573d6fb3f13d689ff844b4ce37794d79a7ff1c',\n",
       "   'symbol': 'BNT'},\n",
       "  'totalVolume': '102797.913955442844830118'},\n",
       " {'token': {'id': '0x408e41876cccdc0f92210600ef50372656052a38',\n",
       "   'symbol': 'REN'},\n",
       "  'totalVolume': '374684.230492209400631729'},\n",
       " {'token': {'id': '0x1f573d6fb3f13d689ff844b4ce37794d79a7ff1c',\n",
       "   'symbol': 'BNT'},\n",
       "  'totalVolume': '199728.920229084052643974'},\n",
       " {'token': {'id': '0x514910771af9ca656af840dff83e8264ecf986ca',\n",
       "   'symbol': 'LINK'},\n",
       "  'totalVolume': '25950.780911626642708256'},\n",
       " {'token': {'id': '0x1776e1f26f98b1a5df9cd347953a26dd3cb46671',\n",
       "   'symbol': 'NMR'},\n",
       "  'totalVolume': '27038.489924002505820159'},\n",
       " {'token': {'id': '0x1f573d6fb3f13d689ff844b4ce37794d79a7ff1c',\n",
       "   'symbol': 'BNT'},\n",
       "  'totalVolume': '572223.285533448330864228'},\n",
       " {'token': {'id': '0x1f573d6fb3f13d689ff844b4ce37794d79a7ff1c',\n",
       "   'symbol': 'BNT'},\n",
       "  'totalVolume': '1730301.272014454344512372'},\n",
       " {'token': {'id': '0x514910771af9ca656af840dff83e8264ecf986ca',\n",
       "   'symbol': 'LINK'},\n",
       "  'totalVolume': '231274.538184353159358841'}]"
      ]
     },
     "execution_count": 164,
     "metadata": {},
     "output_type": "execute_result"
    }
   ],
   "source": [
    "network_query = \"\"\"\n",
    "    {{\n",
    "        volumeStats {{\n",
    "          token {{ \n",
    "              id\n",
    "              symbol \n",
    "          }}\n",
    "          totalVolume\n",
    "        }}\n",
    "    }}\"\"\".format()\n",
    "\n",
    "result = json.loads(client.execute(network_query))\n",
    "result['data']['volumeStats']\n",
    "\n",
    "# Note: volume is not aggregated by token.\n",
    "# There are duplicate results if different converts have the same tokens."
   ]
  },
  {
   "cell_type": "markdown",
   "metadata": {},
   "source": [
    "We could filter the volume stats just for BNT `0x1f573d6fb3f13d689ff844b4ce37794d79a7ff1c` as follows:"
   ]
  },
  {
   "cell_type": "code",
   "execution_count": 165,
   "metadata": {
    "scrolled": true
   },
   "outputs": [
    {
     "data": {
      "text/plain": [
       "[{'token': {'id': '0x1f573d6fb3f13d689ff844b4ce37794d79a7ff1c',\n",
       "   'symbol': 'BNT'},\n",
       "  'totalVolume': '861236.899951375840563878'},\n",
       " {'token': {'id': '0x1f573d6fb3f13d689ff844b4ce37794d79a7ff1c',\n",
       "   'symbol': 'BNT'},\n",
       "  'totalVolume': '380764.794712048490659657'},\n",
       " {'token': {'id': '0x1f573d6fb3f13d689ff844b4ce37794d79a7ff1c',\n",
       "   'symbol': 'BNT'},\n",
       "  'totalVolume': '279347.470024054425230272'},\n",
       " {'token': {'id': '0x1f573d6fb3f13d689ff844b4ce37794d79a7ff1c',\n",
       "   'symbol': 'BNT'},\n",
       "  'totalVolume': '43.230824947580821095'},\n",
       " {'token': {'id': '0x1f573d6fb3f13d689ff844b4ce37794d79a7ff1c',\n",
       "   'symbol': 'BNT'},\n",
       "  'totalVolume': '94.563638630092571364'},\n",
       " {'token': {'id': '0x1f573d6fb3f13d689ff844b4ce37794d79a7ff1c',\n",
       "   'symbol': 'BNT'},\n",
       "  'totalVolume': '1990151.557250318078804662'},\n",
       " {'token': {'id': '0x1f573d6fb3f13d689ff844b4ce37794d79a7ff1c',\n",
       "   'symbol': 'BNT'},\n",
       "  'totalVolume': '2577506.498352379233587353'},\n",
       " {'token': {'id': '0x1f573d6fb3f13d689ff844b4ce37794d79a7ff1c',\n",
       "   'symbol': 'BNT'},\n",
       "  'totalVolume': '209177.482868315612001171'},\n",
       " {'token': {'id': '0x1f573d6fb3f13d689ff844b4ce37794d79a7ff1c',\n",
       "   'symbol': 'BNT'},\n",
       "  'totalVolume': '100300.159966584121874506'},\n",
       " {'token': {'id': '0x1f573d6fb3f13d689ff844b4ce37794d79a7ff1c',\n",
       "   'symbol': 'BNT'},\n",
       "  'totalVolume': '25.806480551506076315'},\n",
       " {'token': {'id': '0x1f573d6fb3f13d689ff844b4ce37794d79a7ff1c',\n",
       "   'symbol': 'BNT'},\n",
       "  'totalVolume': '129855.515612191931953236'},\n",
       " {'token': {'id': '0x1f573d6fb3f13d689ff844b4ce37794d79a7ff1c',\n",
       "   'symbol': 'BNT'},\n",
       "  'totalVolume': '177891.289621665698237855'},\n",
       " {'token': {'id': '0x1f573d6fb3f13d689ff844b4ce37794d79a7ff1c',\n",
       "   'symbol': 'BNT'},\n",
       "  'totalVolume': '57199.892382418690842775'},\n",
       " {'token': {'id': '0x1f573d6fb3f13d689ff844b4ce37794d79a7ff1c',\n",
       "   'symbol': 'BNT'},\n",
       "  'totalVolume': '543858.925050580379485597'},\n",
       " {'token': {'id': '0x1f573d6fb3f13d689ff844b4ce37794d79a7ff1c',\n",
       "   'symbol': 'BNT'},\n",
       "  'totalVolume': '10124.259408879237266396'},\n",
       " {'token': {'id': '0x1f573d6fb3f13d689ff844b4ce37794d79a7ff1c',\n",
       "   'symbol': 'BNT'},\n",
       "  'totalVolume': '1795858.452229931532631027'},\n",
       " {'token': {'id': '0x1f573d6fb3f13d689ff844b4ce37794d79a7ff1c',\n",
       "   'symbol': 'BNT'},\n",
       "  'totalVolume': '76197.742278232822274655'},\n",
       " {'token': {'id': '0x1f573d6fb3f13d689ff844b4ce37794d79a7ff1c',\n",
       "   'symbol': 'BNT'},\n",
       "  'totalVolume': '2266.072047061994885552'},\n",
       " {'token': {'id': '0x1f573d6fb3f13d689ff844b4ce37794d79a7ff1c',\n",
       "   'symbol': 'BNT'},\n",
       "  'totalVolume': '1984860.586403222059912873'},\n",
       " {'token': {'id': '0x1f573d6fb3f13d689ff844b4ce37794d79a7ff1c',\n",
       "   'symbol': 'BNT'},\n",
       "  'totalVolume': '7998.844166887538208511'},\n",
       " {'token': {'id': '0x1f573d6fb3f13d689ff844b4ce37794d79a7ff1c',\n",
       "   'symbol': 'BNT'},\n",
       "  'totalVolume': '100642.861279242492047913'},\n",
       " {'token': {'id': '0x1f573d6fb3f13d689ff844b4ce37794d79a7ff1c',\n",
       "   'symbol': 'BNT'},\n",
       "  'totalVolume': '51050.012797786634698722'},\n",
       " {'token': {'id': '0x1f573d6fb3f13d689ff844b4ce37794d79a7ff1c',\n",
       "   'symbol': 'BNT'},\n",
       "  'totalVolume': '164991.178233665485176479'},\n",
       " {'token': {'id': '0x1f573d6fb3f13d689ff844b4ce37794d79a7ff1c',\n",
       "   'symbol': 'BNT'},\n",
       "  'totalVolume': '491078.886956634374770784'},\n",
       " {'token': {'id': '0x1f573d6fb3f13d689ff844b4ce37794d79a7ff1c',\n",
       "   'symbol': 'BNT'},\n",
       "  'totalVolume': '1224318.324310400987978598'},\n",
       " {'token': {'id': '0x1f573d6fb3f13d689ff844b4ce37794d79a7ff1c',\n",
       "   'symbol': 'BNT'},\n",
       "  'totalVolume': '740163.247865849573517584'},\n",
       " {'token': {'id': '0x1f573d6fb3f13d689ff844b4ce37794d79a7ff1c',\n",
       "   'symbol': 'BNT'},\n",
       "  'totalVolume': '102797.913955442844830118'},\n",
       " {'token': {'id': '0x1f573d6fb3f13d689ff844b4ce37794d79a7ff1c',\n",
       "   'symbol': 'BNT'},\n",
       "  'totalVolume': '199728.920229084052643974'},\n",
       " {'token': {'id': '0x1f573d6fb3f13d689ff844b4ce37794d79a7ff1c',\n",
       "   'symbol': 'BNT'},\n",
       "  'totalVolume': '572223.285533448330864228'},\n",
       " {'token': {'id': '0x1f573d6fb3f13d689ff844b4ce37794d79a7ff1c',\n",
       "   'symbol': 'BNT'},\n",
       "  'totalVolume': '1730301.272014454344512372'}]"
      ]
     },
     "execution_count": 165,
     "metadata": {},
     "output_type": "execute_result"
    }
   ],
   "source": [
    "bnt_token = \"0x1f573d6fb3f13d689ff844b4ce37794d79a7ff1c\"\n",
    "network_query = \"\"\"\n",
    "    {{\n",
    "        volumeStats(where:{{\n",
    "            token: \"{0}\"\n",
    "        }}) {{\n",
    "          token {{ \n",
    "              id\n",
    "              symbol \n",
    "          }}\n",
    "          totalVolume\n",
    "        }}\n",
    "    }}\"\"\".format(bnt_token)\n",
    "\n",
    "result = json.loads(client.execute(network_query))\n",
    "result['data']['volumeStats']"
   ]
  },
  {
   "cell_type": "code",
   "execution_count": 166,
   "metadata": {},
   "outputs": [
    {
     "data": {
      "text/plain": [
       "16562055.946446287"
      ]
     },
     "execution_count": 166,
     "metadata": {},
     "output_type": "execute_result"
    }
   ],
   "source": [
    "bnt_volume = 0\n",
    "for row in result['data']['volumeStats']:\n",
    "    bnt_volume += float(row['totalVolume'])\n",
    "\n",
    "bnt_volume"
   ]
  },
  {
   "cell_type": "markdown",
   "metadata": {},
   "source": [
    "And combining concepts to only look at 7d volume:"
   ]
  },
  {
   "cell_type": "code",
   "execution_count": 168,
   "metadata": {},
   "outputs": [
    {
     "data": {
      "text/plain": [
       "1128654.5112037323"
      ]
     },
     "execution_count": 168,
     "metadata": {},
     "output_type": "execute_result"
    }
   ],
   "source": [
    "days_ago = 7\n",
    "timestamp = timestamp_for_days_ago(days_ago)\n",
    "block = block_for_timestamp(timestamp)\n",
    "\n",
    "bnt_token = \"0x1f573d6fb3f13d689ff844b4ce37794d79a7ff1c\"\n",
    "network_query = \"\"\"\n",
    "    {{\n",
    "        volumeStats(\n",
    "        block:{{number: {0}}}\n",
    "        where:{{\n",
    "            token: \"{1}\"\n",
    "        }}) {{\n",
    "          token {{ \n",
    "              id\n",
    "              symbol \n",
    "          }}\n",
    "          totalVolume\n",
    "        }}\n",
    "    }}\"\"\".format(block, bnt_token)\n",
    "\n",
    "result = json.loads(client.execute(network_query))\n",
    "\n",
    "bnt_volume_before = 0\n",
    "for row in result['data']['volumeStats']:\n",
    "    bnt_volume_before += float(row['totalVolume'])\n",
    "\n",
    "bnt_volume - bnt_volume_before"
   ]
  },
  {
   "cell_type": "markdown",
   "metadata": {},
   "source": [
    "# Pool Token Returns\n",
    "\n",
    "APR data: 1d, 7d, 30d"
   ]
  },
  {
   "cell_type": "markdown",
   "metadata": {},
   "source": [
    "See query https://thegraph.com/explorer/subgraph/blocklytics/bancor-v2?query=Share%20Value%20over%20Time"
   ]
  },
  {
   "cell_type": "markdown",
   "metadata": {},
   "source": [
    "# Trading Fees Collected\n",
    "\n",
    "Fees: 1d, 7d, 30d\n",
    "\n",
    "It's possible to see trading fees on a per-swap basis. See query below:"
   ]
  },
  {
   "cell_type": "code",
   "execution_count": null,
   "metadata": {},
   "outputs": [],
   "source": [
    "query = `\n",
    "{\n",
    "  swaps(first: 5, orderBy: createdAtBlockNumber, orderDirection: desc) {\n",
    "    toToken {\n",
    "      symbol\n",
    "      decimals\n",
    "    }\n",
    "    conversionFee\n",
    "    converter {\n",
    "      id\n",
    "    }\n",
    "  }\n",
    "}\n",
    "`"
   ]
  }
 ],
 "metadata": {
  "kernelspec": {
   "display_name": "Python 3",
   "language": "python",
   "name": "python3"
  },
  "language_info": {
   "codemirror_mode": {
    "name": "ipython",
    "version": 3
   },
   "file_extension": ".py",
   "mimetype": "text/x-python",
   "name": "python",
   "nbconvert_exporter": "python",
   "pygments_lexer": "ipython3",
   "version": "3.6.6"
  }
 },
 "nbformat": 4,
 "nbformat_minor": 2
}
