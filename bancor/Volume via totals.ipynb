{
 "cells": [
  {
   "cell_type": "markdown",
   "metadata": {},
   "source": [
    "# Total swaps\n",
    "\n",
    "This notebook shows a method to get Bancor trade volumes over a time period.\n",
    "\n",
    "Set the blocks and sum the volume to get 24h volume, daily trading volume, etc.\n",
    "\n",
    "This is a suitable method over larger timeframes.\n",
    "\n",
    "\n",
    "## Setup\n",
    "---"
   ]
  },
  {
   "cell_type": "code",
   "execution_count": 1,
   "metadata": {},
   "outputs": [],
   "source": [
    "from graphqlclient import GraphQLClient\n",
    "import pandas as pd\n",
    "import json\n",
    "from pandas.io.json import json_normalize\n",
    "from datetime import datetime"
   ]
  },
  {
   "cell_type": "code",
   "execution_count": 2,
   "metadata": {},
   "outputs": [],
   "source": [
    "ENDPOINT = \"https://api.thegraph.com/subgraphs/name/blocklytics/bancor\"\n",
    "client = GraphQLClient(ENDPOINT)"
   ]
  },
  {
   "cell_type": "markdown",
   "metadata": {},
   "source": [
    "This examples takes ~24 hour period by manually selecting blocks. In practice, this should be automated for the relevant periods."
   ]
  },
  {
   "cell_type": "code",
   "execution_count": 3,
   "metadata": {},
   "outputs": [],
   "source": [
    "# Blocks\n",
    "start_block = 9273388 # Inclusive\n",
    "end_block = 9279958   # Inclusive?"
   ]
  },
  {
   "cell_type": "markdown",
   "metadata": {},
   "source": [
    "## Fetch data\n",
    "---"
   ]
  },
  {
   "cell_type": "code",
   "execution_count": 4,
   "metadata": {},
   "outputs": [],
   "source": [
    "# This function accepts a query starting with 'results'\n",
    "# Returns a dataframe with flattened results\n",
    "\n",
    "def fetch_results(query, block):\n",
    "    # Start with an empty df\n",
    "    df = pd.DataFrame()\n",
    "\n",
    "    # Results must be paginated\n",
    "    limit = 100\n",
    "    offset = 0\n",
    "    fetching_results = True\n",
    "    # Fetch paginated results\n",
    "    while fetching_results:\n",
    "        _query = query.format(limit, offset, block)\n",
    "        \n",
    "        result = json.loads(client.execute(_query))\n",
    "        _df = pd.DataFrame.from_records(json_normalize(result['data']['results']))\n",
    "\n",
    "        # If df is empty, create it from new _df\n",
    "        # Else append new _df to df\n",
    "        if len(df.index) == 0:\n",
    "            df = _df\n",
    "        else:\n",
    "            df = df.append(_df)\n",
    "\n",
    "        # Prepare for pagination\n",
    "        result_length = len(_df.index)\n",
    "        if limit == result_length:\n",
    "            offset += limit\n",
    "        else:\n",
    "            fetching_results = False\n",
    "\n",
    "    df.reset_index(drop=True, inplace=True)\n",
    "    print(df.shape)\n",
    "    return df"
   ]
  },
  {
   "cell_type": "code",
   "execution_count": 16,
   "metadata": {
    "scrolled": true
   },
   "outputs": [
    {
     "name": "stdout",
     "output_type": "stream",
     "text": [
      "(467, 8)\n",
      "(467, 8)\n"
     ]
    }
   ],
   "source": [
    "query = \"\"\"\n",
    "    {{\n",
    "      results:tokenSwapTotals(\n",
    "        first:{0},\n",
    "        skip:{1},\n",
    "        block:{{number:{2}}}\n",
    "        )\n",
    "        {{\n",
    "        fromToken {{id, symbol, decimals}}\n",
    "        toToken {{id, symbol, decimals}}\n",
    "        totalAmountPurchased\n",
    "        totalAmountReturned\n",
    "      }}\n",
    "    }}\n",
    "\"\"\"\n",
    "\n",
    "df_start = fetch_results(query, start_block)\n",
    "df_end = fetch_results(query, end_block)"
   ]
  },
  {
   "cell_type": "markdown",
   "metadata": {},
   "source": [
    "# Format data\n",
    "---\n",
    "\n",
    "Combine dataframes"
   ]
  },
  {
   "cell_type": "code",
   "execution_count": 6,
   "metadata": {
    "scrolled": true
   },
   "outputs": [],
   "source": [
    "df = df_start\\\n",
    "    .merge(df_end, \n",
    "           how='outer',\n",
    "           on=['fromToken.decimals',  'fromToken.id', 'fromToken.symbol', 'toToken.decimals', 'toToken.id', 'toToken.symbol'],\n",
    "           suffixes=('_start', '_end')\n",
    "          )"
   ]
  },
  {
   "cell_type": "markdown",
   "metadata": {},
   "source": [
    "Convert from wei"
   ]
  },
  {
   "cell_type": "code",
   "execution_count": 7,
   "metadata": {},
   "outputs": [],
   "source": [
    "df['totalAmountPurchased_start_f'] = df.apply(lambda row: float(row['totalAmountPurchased_start']) / 10 ** row['fromToken.decimals'], axis=1)\n",
    "df['totalAmountPurchased_end_f'] = df.apply(lambda row: float(row['totalAmountPurchased_end']) / 10 ** row['fromToken.decimals'], axis=1)\n",
    "\n",
    "df['totalAmountReturned_start_f'] = df.apply(lambda row: float(row['totalAmountReturned_start']) / 10 ** row['toToken.decimals'], axis=1)\n",
    "df['totalAmountReturned_end_f'] = df.apply(lambda row: float(row['totalAmountReturned_end']) / 10 ** row['toToken.decimals'], axis=1)\n"
   ]
  },
  {
   "cell_type": "markdown",
   "metadata": {},
   "source": [
    "Get difference over time period"
   ]
  },
  {
   "cell_type": "code",
   "execution_count": 8,
   "metadata": {},
   "outputs": [],
   "source": [
    "df['totalAmountPurchased'] = df['totalAmountPurchased_end_f'] - df['totalAmountPurchased_start_f']\n",
    "df['totalAmountReturned'] = df['totalAmountReturned_end_f'] - df['totalAmountReturned_start_f']"
   ]
  },
  {
   "cell_type": "markdown",
   "metadata": {},
   "source": [
    "Get volume in base token terms (USDB or BNT)"
   ]
  },
  {
   "cell_type": "code",
   "execution_count": 18,
   "metadata": {},
   "outputs": [],
   "source": [
    "df['volume_bnt'] = \\\n",
    "    df.apply(lambda row: row['totalAmountPurchased'] if row['fromToken.id'] == \"0x1f573d6fb3f13d689ff844b4ce37794d79a7ff1c\" else 0, axis=1)\\\n",
    "    + df.apply(lambda row: row['totalAmountReturned'] if row['toToken.id'] == \"0x1f573d6fb3f13d689ff844b4ce37794d79a7ff1c\" else 0, axis=1)\n",
    "\n",
    "df['volume_usdb'] = \\\n",
    "    df.apply(lambda row: row['totalAmountPurchased'] if row['fromToken.id'] == \"0x309627af60f0926daa6041b8279484312f2bf060\" else 0, axis=1)\\\n",
    "    + df.apply(lambda row: row['totalAmountReturned'] if row['toToken.id'] == \"0x309627af60f0926daa6041b8279484312f2bf060\" else 0, axis=1)\\\n"
   ]
  },
  {
   "cell_type": "markdown",
   "metadata": {},
   "source": [
    "# Volumes over period\n",
    "---\n",
    "## BNT Volume"
   ]
  },
  {
   "cell_type": "code",
   "execution_count": 19,
   "metadata": {},
   "outputs": [
    {
     "data": {
      "text/plain": [
       "1301370.1838064648"
      ]
     },
     "execution_count": 19,
     "metadata": {},
     "output_type": "execute_result"
    }
   ],
   "source": [
    "df['volume_bnt'].sum()"
   ]
  },
  {
   "cell_type": "markdown",
   "metadata": {},
   "source": [
    "## USDB Volume\n",
    "\n",
    "Avoid double-counting volume by excluding BNT volume already counted above."
   ]
  },
  {
   "cell_type": "code",
   "execution_count": 20,
   "metadata": {},
   "outputs": [],
   "source": [
    "# df['volume_usdb'].sum() # This will double-count BNT volume."
   ]
  },
  {
   "cell_type": "code",
   "execution_count": 21,
   "metadata": {},
   "outputs": [
    {
     "data": {
      "text/plain": [
       "2099.013373769474"
      ]
     },
     "execution_count": 21,
     "metadata": {},
     "output_type": "execute_result"
    }
   ],
   "source": [
    "df[df['volume_bnt'] == 0]['volume_usdb'].sum()"
   ]
  },
  {
   "cell_type": "markdown",
   "metadata": {},
   "source": [
    "## Trade pairs not counted\n",
    "\n",
    "These trade pairs were not counted as they did not include a base token of BNT or USDB."
   ]
  },
  {
   "cell_type": "code",
   "execution_count": 22,
   "metadata": {
    "scrolled": true
   },
   "outputs": [
    {
     "data": {
      "text/html": [
       "<div>\n",
       "<style scoped>\n",
       "    .dataframe tbody tr th:only-of-type {\n",
       "        vertical-align: middle;\n",
       "    }\n",
       "\n",
       "    .dataframe tbody tr th {\n",
       "        vertical-align: top;\n",
       "    }\n",
       "\n",
       "    .dataframe thead th {\n",
       "        text-align: right;\n",
       "    }\n",
       "</style>\n",
       "<table border=\"1\" class=\"dataframe\">\n",
       "  <thead>\n",
       "    <tr style=\"text-align: right;\">\n",
       "      <th></th>\n",
       "      <th>fromToken.decimals</th>\n",
       "      <th>fromToken.id</th>\n",
       "      <th>fromToken.symbol</th>\n",
       "      <th>toToken.decimals</th>\n",
       "      <th>toToken.id</th>\n",
       "      <th>toToken.symbol</th>\n",
       "      <th>totalAmountPurchased_start</th>\n",
       "      <th>totalAmountReturned_start</th>\n",
       "      <th>totalAmountPurchased_end</th>\n",
       "      <th>totalAmountReturned_end</th>\n",
       "      <th>totalAmountPurchased_start_f</th>\n",
       "      <th>totalAmountPurchased_end_f</th>\n",
       "      <th>totalAmountReturned_start_f</th>\n",
       "      <th>totalAmountReturned_end_f</th>\n",
       "      <th>totalAmountPurchased</th>\n",
       "      <th>totalAmountReturned</th>\n",
       "      <th>volume_bnt</th>\n",
       "      <th>volume_usdb</th>\n",
       "    </tr>\n",
       "  </thead>\n",
       "  <tbody>\n",
       "    <tr>\n",
       "      <th>339</th>\n",
       "      <td>18.0</td>\n",
       "      <td>0x8a9c67fee641579deba04928c4bc45f66e26343a</td>\n",
       "      <td>JRT</td>\n",
       "      <td>18.0</td>\n",
       "      <td>0x4827e558e642861cd7a1c8f011b2b4661f8d51fa</td>\n",
       "      <td>JRTUSDB</td>\n",
       "      <td>67352857828516101799973</td>\n",
       "      <td>1241277474250029294520</td>\n",
       "      <td>68025840167416101343735</td>\n",
       "      <td>1259282664226745488444</td>\n",
       "      <td>67352.857829</td>\n",
       "      <td>68025.840167</td>\n",
       "      <td>1241.277474</td>\n",
       "      <td>1259.282664</td>\n",
       "      <td>672.982339</td>\n",
       "      <td>18.005190</td>\n",
       "      <td>0.0</td>\n",
       "      <td>0.0</td>\n",
       "    </tr>\n",
       "    <tr>\n",
       "      <th>387</th>\n",
       "      <td>18.0</td>\n",
       "      <td>0xb1cd6e4153b2a390cf00a6556b0fc1458c4a5533</td>\n",
       "      <td>ETHBNT</td>\n",
       "      <td>18.0</td>\n",
       "      <td>0xc0829421c1d260bd3cb3e0f06cfe2d52db2ce315</td>\n",
       "      <td>ETH</td>\n",
       "      <td>85017269735067518912635</td>\n",
       "      <td>152673453432967492107</td>\n",
       "      <td>86744931413371652736650</td>\n",
       "      <td>155705157045565593759</td>\n",
       "      <td>85017.269735</td>\n",
       "      <td>86744.931413</td>\n",
       "      <td>152.673453</td>\n",
       "      <td>155.705157</td>\n",
       "      <td>1727.661678</td>\n",
       "      <td>3.031704</td>\n",
       "      <td>0.0</td>\n",
       "      <td>0.0</td>\n",
       "    </tr>\n",
       "    <tr>\n",
       "      <th>399</th>\n",
       "      <td>18.0</td>\n",
       "      <td>0xbf2179859fc6d5bee9bf9158632dc51678a4100e</td>\n",
       "      <td>ELF</td>\n",
       "      <td>18.0</td>\n",
       "      <td>0x0f2318565f1996cb1ed2f88e172135791bc1fcbf</td>\n",
       "      <td>ELFBNT</td>\n",
       "      <td>3883000000000000000000</td>\n",
       "      <td>725547666992843469753</td>\n",
       "      <td>5183000000000000000000</td>\n",
       "      <td>1002058349917051189729</td>\n",
       "      <td>3883.000000</td>\n",
       "      <td>5183.000000</td>\n",
       "      <td>725.547667</td>\n",
       "      <td>1002.058350</td>\n",
       "      <td>1300.000000</td>\n",
       "      <td>276.510683</td>\n",
       "      <td>0.0</td>\n",
       "      <td>0.0</td>\n",
       "    </tr>\n",
       "    <tr>\n",
       "      <th>443</th>\n",
       "      <td>18.0</td>\n",
       "      <td>0xe6b31fb3f29fbde1b92794b0867a315ff605a324</td>\n",
       "      <td>BNBBNT</td>\n",
       "      <td>18.0</td>\n",
       "      <td>0xb8c77482e45f1f44de1745f52c74426c631bdd52</td>\n",
       "      <td>BNB</td>\n",
       "      <td>165737059105988105199</td>\n",
       "      <td>16782254058177895436</td>\n",
       "      <td>354916830208575403146</td>\n",
       "      <td>35631841703694962372</td>\n",
       "      <td>165.737059</td>\n",
       "      <td>354.916830</td>\n",
       "      <td>16.782254</td>\n",
       "      <td>35.631842</td>\n",
       "      <td>189.179771</td>\n",
       "      <td>18.849588</td>\n",
       "      <td>0.0</td>\n",
       "      <td>0.0</td>\n",
       "    </tr>\n",
       "  </tbody>\n",
       "</table>\n",
       "</div>"
      ],
      "text/plain": [
       "     fromToken.decimals                                fromToken.id  \\\n",
       "339                18.0  0x8a9c67fee641579deba04928c4bc45f66e26343a   \n",
       "387                18.0  0xb1cd6e4153b2a390cf00a6556b0fc1458c4a5533   \n",
       "399                18.0  0xbf2179859fc6d5bee9bf9158632dc51678a4100e   \n",
       "443                18.0  0xe6b31fb3f29fbde1b92794b0867a315ff605a324   \n",
       "\n",
       "    fromToken.symbol  toToken.decimals  \\\n",
       "339              JRT              18.0   \n",
       "387           ETHBNT              18.0   \n",
       "399              ELF              18.0   \n",
       "443           BNBBNT              18.0   \n",
       "\n",
       "                                     toToken.id toToken.symbol  \\\n",
       "339  0x4827e558e642861cd7a1c8f011b2b4661f8d51fa        JRTUSDB   \n",
       "387  0xc0829421c1d260bd3cb3e0f06cfe2d52db2ce315            ETH   \n",
       "399  0x0f2318565f1996cb1ed2f88e172135791bc1fcbf         ELFBNT   \n",
       "443  0xb8c77482e45f1f44de1745f52c74426c631bdd52            BNB   \n",
       "\n",
       "    totalAmountPurchased_start totalAmountReturned_start  \\\n",
       "339    67352857828516101799973    1241277474250029294520   \n",
       "387    85017269735067518912635     152673453432967492107   \n",
       "399     3883000000000000000000     725547666992843469753   \n",
       "443      165737059105988105199      16782254058177895436   \n",
       "\n",
       "    totalAmountPurchased_end totalAmountReturned_end  \\\n",
       "339  68025840167416101343735  1259282664226745488444   \n",
       "387  86744931413371652736650   155705157045565593759   \n",
       "399   5183000000000000000000  1002058349917051189729   \n",
       "443    354916830208575403146    35631841703694962372   \n",
       "\n",
       "     totalAmountPurchased_start_f  totalAmountPurchased_end_f  \\\n",
       "339                  67352.857829                68025.840167   \n",
       "387                  85017.269735                86744.931413   \n",
       "399                   3883.000000                 5183.000000   \n",
       "443                    165.737059                  354.916830   \n",
       "\n",
       "     totalAmountReturned_start_f  totalAmountReturned_end_f  \\\n",
       "339                  1241.277474                1259.282664   \n",
       "387                   152.673453                 155.705157   \n",
       "399                   725.547667                1002.058350   \n",
       "443                    16.782254                  35.631842   \n",
       "\n",
       "     totalAmountPurchased  totalAmountReturned  volume_bnt  volume_usdb  \n",
       "339            672.982339            18.005190         0.0          0.0  \n",
       "387           1727.661678             3.031704         0.0          0.0  \n",
       "399           1300.000000           276.510683         0.0          0.0  \n",
       "443            189.179771            18.849588         0.0          0.0  "
      ]
     },
     "execution_count": 22,
     "metadata": {},
     "output_type": "execute_result"
    }
   ],
   "source": [
    "df[(df['volume_bnt'] == 0) & (df['volume_usdb'] == 0) & (df['totalAmountPurchased'] > 0)]"
   ]
  },
  {
   "cell_type": "code",
   "execution_count": null,
   "metadata": {},
   "outputs": [],
   "source": []
  }
 ],
 "metadata": {
  "kernelspec": {
   "display_name": "Python 3",
   "language": "python",
   "name": "python3"
  },
  "language_info": {
   "codemirror_mode": {
    "name": "ipython",
    "version": 3
   },
   "file_extension": ".py",
   "mimetype": "text/x-python",
   "name": "python",
   "nbconvert_exporter": "python",
   "pygments_lexer": "ipython3",
   "version": "3.6.6"
  }
 },
 "nbformat": 4,
 "nbformat_minor": 2
}
